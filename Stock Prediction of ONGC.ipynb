{
 "cells": [
  {
   "cell_type": "code",
   "execution_count": 4,
   "id": "1441352b",
   "metadata": {},
   "outputs": [],
   "source": [
    "#pip install yfinance\n",
    "import yfinance as yf"
   ]
  },
  {
   "cell_type": "code",
   "execution_count": 7,
   "id": "e4b6d21e",
   "metadata": {},
   "outputs": [],
   "source": [
    "# Now  see yahoo finance ticker for your stock symbol\n",
    "stock_symbol = 'ONGC.NS'"
   ]
  },
  {
   "cell_type": "code",
   "execution_count": 8,
   "id": "b43d1629",
   "metadata": {},
   "outputs": [
    {
     "name": "stdout",
     "output_type": "stream",
     "text": [
      "[*********************100%***********************]  1 of 1 completed\n"
     ]
    }
   ],
   "source": [
    "# last 10 year data with interval of 1 day \n",
    "data= yf.download(tickers = stock_symbol,period=\"10y\",interval='1d')"
   ]
  },
  {
   "cell_type": "code",
   "execution_count": 9,
   "id": "573e6008",
   "metadata": {},
   "outputs": [
    {
     "data": {
      "text/plain": [
       "pandas.core.frame.DataFrame"
      ]
     },
     "execution_count": 9,
     "metadata": {},
     "output_type": "execute_result"
    }
   ],
   "source": [
    "type(data)"
   ]
  },
  {
   "cell_type": "code",
   "execution_count": 10,
   "id": "4efe7056",
   "metadata": {
    "scrolled": true
   },
   "outputs": [
    {
     "data": {
      "text/html": [
       "<div>\n",
       "<style scoped>\n",
       "    .dataframe tbody tr th:only-of-type {\n",
       "        vertical-align: middle;\n",
       "    }\n",
       "\n",
       "    .dataframe tbody tr th {\n",
       "        vertical-align: top;\n",
       "    }\n",
       "\n",
       "    .dataframe thead th {\n",
       "        text-align: right;\n",
       "    }\n",
       "</style>\n",
       "<table border=\"1\" class=\"dataframe\">\n",
       "  <thead>\n",
       "    <tr style=\"text-align: right;\">\n",
       "      <th></th>\n",
       "      <th>Open</th>\n",
       "      <th>High</th>\n",
       "      <th>Low</th>\n",
       "      <th>Close</th>\n",
       "      <th>Adj Close</th>\n",
       "      <th>Volume</th>\n",
       "    </tr>\n",
       "    <tr>\n",
       "      <th>Date</th>\n",
       "      <th></th>\n",
       "      <th></th>\n",
       "      <th></th>\n",
       "      <th></th>\n",
       "      <th></th>\n",
       "      <th></th>\n",
       "    </tr>\n",
       "  </thead>\n",
       "  <tbody>\n",
       "    <tr>\n",
       "      <th>2012-08-21</th>\n",
       "      <td>187.399994</td>\n",
       "      <td>192.066666</td>\n",
       "      <td>187.399994</td>\n",
       "      <td>191.366669</td>\n",
       "      <td>124.629387</td>\n",
       "      <td>1744494</td>\n",
       "    </tr>\n",
       "    <tr>\n",
       "      <th>2012-08-22</th>\n",
       "      <td>190.166672</td>\n",
       "      <td>192.833328</td>\n",
       "      <td>189.733337</td>\n",
       "      <td>190.800003</td>\n",
       "      <td>124.260307</td>\n",
       "      <td>2342109</td>\n",
       "    </tr>\n",
       "    <tr>\n",
       "      <th>2012-08-23</th>\n",
       "      <td>190.000000</td>\n",
       "      <td>191.266663</td>\n",
       "      <td>186.966660</td>\n",
       "      <td>187.800003</td>\n",
       "      <td>122.306534</td>\n",
       "      <td>2383513</td>\n",
       "    </tr>\n",
       "    <tr>\n",
       "      <th>2012-08-24</th>\n",
       "      <td>188.666672</td>\n",
       "      <td>192.466660</td>\n",
       "      <td>187.466660</td>\n",
       "      <td>191.233337</td>\n",
       "      <td>124.542526</td>\n",
       "      <td>3207067</td>\n",
       "    </tr>\n",
       "    <tr>\n",
       "      <th>2012-08-27</th>\n",
       "      <td>190.733337</td>\n",
       "      <td>193.133331</td>\n",
       "      <td>190.066666</td>\n",
       "      <td>191.633331</td>\n",
       "      <td>124.803024</td>\n",
       "      <td>1903851</td>\n",
       "    </tr>\n",
       "  </tbody>\n",
       "</table>\n",
       "</div>"
      ],
      "text/plain": [
       "                  Open        High         Low       Close   Adj Close  \\\n",
       "Date                                                                     \n",
       "2012-08-21  187.399994  192.066666  187.399994  191.366669  124.629387   \n",
       "2012-08-22  190.166672  192.833328  189.733337  190.800003  124.260307   \n",
       "2012-08-23  190.000000  191.266663  186.966660  187.800003  122.306534   \n",
       "2012-08-24  188.666672  192.466660  187.466660  191.233337  124.542526   \n",
       "2012-08-27  190.733337  193.133331  190.066666  191.633331  124.803024   \n",
       "\n",
       "             Volume  \n",
       "Date                 \n",
       "2012-08-21  1744494  \n",
       "2012-08-22  2342109  \n",
       "2012-08-23  2383513  \n",
       "2012-08-24  3207067  \n",
       "2012-08-27  1903851  "
      ]
     },
     "execution_count": 10,
     "metadata": {},
     "output_type": "execute_result"
    }
   ],
   "source": [
    "data.head()"
   ]
  },
  {
   "cell_type": "code",
   "execution_count": 12,
   "id": "ef5aeb74",
   "metadata": {},
   "outputs": [
    {
     "data": {
      "text/plain": [
       "2464"
      ]
     },
     "execution_count": 12,
     "metadata": {},
     "output_type": "execute_result"
    }
   ],
   "source": [
    "len(data)"
   ]
  },
  {
   "cell_type": "code",
   "execution_count": 13,
   "id": "bd522ce1",
   "metadata": {},
   "outputs": [
    {
     "data": {
      "text/html": [
       "<div>\n",
       "<style scoped>\n",
       "    .dataframe tbody tr th:only-of-type {\n",
       "        vertical-align: middle;\n",
       "    }\n",
       "\n",
       "    .dataframe tbody tr th {\n",
       "        vertical-align: top;\n",
       "    }\n",
       "\n",
       "    .dataframe thead th {\n",
       "        text-align: right;\n",
       "    }\n",
       "</style>\n",
       "<table border=\"1\" class=\"dataframe\">\n",
       "  <thead>\n",
       "    <tr style=\"text-align: right;\">\n",
       "      <th></th>\n",
       "      <th>Open</th>\n",
       "      <th>High</th>\n",
       "      <th>Low</th>\n",
       "      <th>Close</th>\n",
       "      <th>Adj Close</th>\n",
       "      <th>Volume</th>\n",
       "    </tr>\n",
       "    <tr>\n",
       "      <th>Date</th>\n",
       "      <th></th>\n",
       "      <th></th>\n",
       "      <th></th>\n",
       "      <th></th>\n",
       "      <th></th>\n",
       "      <th></th>\n",
       "    </tr>\n",
       "  </thead>\n",
       "  <tbody>\n",
       "    <tr>\n",
       "      <th>2022-08-12</th>\n",
       "      <td>133.899994</td>\n",
       "      <td>139.699997</td>\n",
       "      <td>133.500000</td>\n",
       "      <td>139.199997</td>\n",
       "      <td>135.960464</td>\n",
       "      <td>40876891</td>\n",
       "    </tr>\n",
       "    <tr>\n",
       "      <th>2022-08-16</th>\n",
       "      <td>139.500000</td>\n",
       "      <td>141.899994</td>\n",
       "      <td>136.100006</td>\n",
       "      <td>139.949997</td>\n",
       "      <td>136.693024</td>\n",
       "      <td>31230003</td>\n",
       "    </tr>\n",
       "    <tr>\n",
       "      <th>2022-08-17</th>\n",
       "      <td>139.949997</td>\n",
       "      <td>140.800003</td>\n",
       "      <td>138.699997</td>\n",
       "      <td>139.649994</td>\n",
       "      <td>136.399994</td>\n",
       "      <td>15694770</td>\n",
       "    </tr>\n",
       "    <tr>\n",
       "      <th>2022-08-18</th>\n",
       "      <td>138.250000</td>\n",
       "      <td>138.300003</td>\n",
       "      <td>134.699997</td>\n",
       "      <td>135.550003</td>\n",
       "      <td>135.550003</td>\n",
       "      <td>42597708</td>\n",
       "    </tr>\n",
       "    <tr>\n",
       "      <th>2022-08-19</th>\n",
       "      <td>137.500000</td>\n",
       "      <td>138.500000</td>\n",
       "      <td>134.050003</td>\n",
       "      <td>134.600006</td>\n",
       "      <td>134.600006</td>\n",
       "      <td>35382493</td>\n",
       "    </tr>\n",
       "  </tbody>\n",
       "</table>\n",
       "</div>"
      ],
      "text/plain": [
       "                  Open        High         Low       Close   Adj Close  \\\n",
       "Date                                                                     \n",
       "2022-08-12  133.899994  139.699997  133.500000  139.199997  135.960464   \n",
       "2022-08-16  139.500000  141.899994  136.100006  139.949997  136.693024   \n",
       "2022-08-17  139.949997  140.800003  138.699997  139.649994  136.399994   \n",
       "2022-08-18  138.250000  138.300003  134.699997  135.550003  135.550003   \n",
       "2022-08-19  137.500000  138.500000  134.050003  134.600006  134.600006   \n",
       "\n",
       "              Volume  \n",
       "Date                  \n",
       "2022-08-12  40876891  \n",
       "2022-08-16  31230003  \n",
       "2022-08-17  15694770  \n",
       "2022-08-18  42597708  \n",
       "2022-08-19  35382493  "
      ]
     },
     "execution_count": 13,
     "metadata": {},
     "output_type": "execute_result"
    }
   ],
   "source": [
    "data.tail()"
   ]
  },
  {
   "cell_type": "code",
   "execution_count": 16,
   "id": "919755cd",
   "metadata": {},
   "outputs": [],
   "source": [
    "opn= data[['Open']]"
   ]
  },
  {
   "cell_type": "code",
   "execution_count": 17,
   "id": "50b4d075",
   "metadata": {},
   "outputs": [
    {
     "data": {
      "text/plain": [
       "<AxesSubplot:xlabel='Date'>"
      ]
     },
     "execution_count": 17,
     "metadata": {},
     "output_type": "execute_result"
    },
    {
     "data": {
      "image/png": "[encoded data removed]",
      "text/plain": [
       "<Figure size 432x288 with 1 Axes>"
      ]
     },
     "metadata": {
      "needs_background": "light"
     },
     "output_type": "display_data"
    }
   ],
   "source": [
    "opn.plot()"
   ]
  },
  {
   "cell_type": "code",
   "execution_count": 18,
   "id": "5c1170a9",
   "metadata": {},
   "outputs": [],
   "source": [
    "import matplotlib.pyplot as plt"
   ]
  },
  {
   "cell_type": "code",
   "execution_count": 19,
   "id": "1526c024",
   "metadata": {},
   "outputs": [],
   "source": [
    "ds = opn.values"
   ]
  },
  {
   "cell_type": "code",
   "execution_count": 20,
   "id": "6ba78b76",
   "metadata": {},
   "outputs": [
    {
     "data": {
      "text/plain": [
       "array([[187.3999939 ],\n",
       "       [190.16667175],\n",
       "       [190.        ],\n",
       "       ...,\n",
       "       [139.94999695],\n",
       "       [138.25      ],\n",
       "       [137.5       ]])"
      ]
     },
     "execution_count": 20,
     "metadata": {},
     "output_type": "execute_result"
    }
   ],
   "source": [
    "ds"
   ]
  },
  {
   "cell_type": "code",
   "execution_count": 21,
   "id": "3749a24f",
   "metadata": {},
   "outputs": [
    {
     "data": {
      "text/plain": [
       "[<matplotlib.lines.Line2D at 0x22fbc0466d0>]"
      ]
     },
     "execution_count": 21,
     "metadata": {},
     "output_type": "execute_result"
    },
    {
     "data": {
      "image/png": "[encoded data removed]",
      "text/plain": [
       "<Figure size 432x288 with 1 Axes>"
      ]
     },
     "metadata": {
      "needs_background": "light"
     },
     "output_type": "display_data"
    }
   ],
   "source": [
    "plt.plot(ds)"
   ]
  },
  {
   "cell_type": "code",
   "execution_count": 22,
   "id": "d0b4d06c",
   "metadata": {},
   "outputs": [],
   "source": [
    "import numpy as np "
   ]
  },
  {
   "cell_type": "code",
   "execution_count": 23,
   "id": "af5ba112",
   "metadata": {},
   "outputs": [],
   "source": [
    "from sklearn.preprocessing import MinMaxScaler"
   ]
  },
  {
   "cell_type": "code",
   "execution_count": 25,
   "id": "f8ce9460",
   "metadata": {},
   "outputs": [],
   "source": [
    "# using MinMaxScaler for normalizing data between 0 and  1\n",
    "\n",
    "normalizer = MinMaxScaler(feature_range=(0,1))\n",
    "\n",
    "ds_scaled= normalizer.fit_transform(np.array(ds).reshape(-1,1))"
   ]
  },
  {
   "cell_type": "code",
   "execution_count": 26,
   "id": "4f564edf",
   "metadata": {},
   "outputs": [
    {
     "data": {
      "text/plain": [
       "(2464, 2464)"
      ]
     },
     "execution_count": 26,
     "metadata": {},
     "output_type": "execute_result"
    }
   ],
   "source": [
    "len(ds_scaled),len(ds)"
   ]
  },
  {
   "cell_type": "code",
   "execution_count": 29,
   "id": "e36dd875",
   "metadata": {},
   "outputs": [],
   "source": [
    "# defining test and train data sizes\n",
    "train_size = int(len(ds_scaled)*0.70)\n",
    "test_size = len(ds_scaled)- train_size"
   ]
  },
  {
   "cell_type": "code",
   "execution_count": 30,
   "id": "8166360f",
   "metadata": {},
   "outputs": [
    {
     "data": {
      "text/plain": [
       "(1724, 740)"
      ]
     },
     "execution_count": 30,
     "metadata": {},
     "output_type": "execute_result"
    }
   ],
   "source": [
    "train_size, test_size"
   ]
  },
  {
   "cell_type": "code",
   "execution_count": 32,
   "id": "23c86816",
   "metadata": {},
   "outputs": [],
   "source": [
    "# spitting data between train and test \n",
    "\n",
    "ds_train, ds_test= ds_scaled[0:train_size,:],ds_scaled[train_size:len(ds_scaled),:1]"
   ]
  },
  {
   "cell_type": "code",
   "execution_count": 34,
   "id": "510f66b4",
   "metadata": {},
   "outputs": [
    {
     "data": {
      "text/plain": [
       "(1724, 740)"
      ]
     },
     "execution_count": 34,
     "metadata": {},
     "output_type": "execute_result"
    }
   ],
   "source": [
    "len(ds_train),len(ds_test)"
   ]
  },
  {
   "cell_type": "code",
   "execution_count": 36,
   "id": "a2130386",
   "metadata": {},
   "outputs": [],
   "source": [
    "# creating dataset in time series for LSTM Model\n",
    "\n",
    "def create_ds(dataset,step):\n",
    "    Xtrain,Ytrain =[],[]\n",
    "    for i in range(len(dataset)-step-1):\n",
    "        a=dataset[i:(i+step),0]\n",
    "        Xtrain.append(a)\n",
    "        Ytrain.append(dataset[i+step,0])\n",
    "    return np.array(Xtrain),np.array(Ytrain)"
   ]
  },
  {
   "cell_type": "code",
   "execution_count": 43,
   "id": "38d0e45e",
   "metadata": {},
   "outputs": [],
   "source": [
    "# taking 100 days price as on record for training \n",
    "\n",
    "time_stamp = 100 \n",
    "X_train,Y_train = create_ds(ds_train,time_stamp)\n",
    "X_test,Y_test = create_ds(ds_test,time_stamp)\n"
   ]
  },
  {
   "cell_type": "code",
   "execution_count": 44,
   "id": "65f46c2d",
   "metadata": {},
   "outputs": [
    {
     "data": {
      "text/plain": [
       "((1623, 100), (1623,))"
      ]
     },
     "execution_count": 44,
     "metadata": {},
     "output_type": "execute_result"
    }
   ],
   "source": [
    " X_train.shape,Y_train.shape"
   ]
  },
  {
   "cell_type": "code",
   "execution_count": 45,
   "id": "997e6d97",
   "metadata": {},
   "outputs": [
    {
     "data": {
      "text/plain": [
       "((639, 100), (639,))"
      ]
     },
     "execution_count": 45,
     "metadata": {},
     "output_type": "execute_result"
    }
   ],
   "source": [
    "X_test.shape,Y_test.shape"
   ]
  },
  {
   "cell_type": "code",
   "execution_count": 46,
   "id": "73090d11",
   "metadata": {},
   "outputs": [],
   "source": [
    "# Reshaping dta to fit into LSTM model\n",
    "\n",
    "\n",
    "X_train = X_train.reshape(X_train.shape[0],X_train.shape[1],1)\n",
    "\n",
    "\n",
    "X_test = X_test.reshape(X_test.shape[0],X_test.shape[1],1)"
   ]
  },
  {
   "cell_type": "code",
   "execution_count": 53,
   "id": "9be6cf8a",
   "metadata": {},
   "outputs": [
    {
     "name": "stdout",
     "output_type": "stream",
     "text": [
      "Collecting tensorflow\n",
      "  Downloading tensorflow-2.9.1-cp39-cp39-win_amd64.whl (444.0 MB)\n",
      "Requirement already satisfied: six>=1.12.0 in c:\\users\\dell\\anaconda3\\lib\\site-packages (from tensorflow) (1.16.0)\n",
      "Requirement already satisfied: typing-extensions>=3.6.6 in c:\\users\\dell\\anaconda3\\lib\\site-packages (from tensorflow) (3.10.0.2)\n",
      "Requirement already satisfied: packaging in c:\\users\\dell\\anaconda3\\lib\\site-packages (from tensorflow) (21.0)\n",
      "Collecting tensorflow-io-gcs-filesystem>=0.23.1\n",
      "  Downloading tensorflow_io_gcs_filesystem-0.26.0-cp39-cp39-win_amd64.whl (1.5 MB)\n",
      "Collecting keras-preprocessing>=1.1.1Note: you may need to restart the kernel to use updated packages.\n",
      "\n",
      "  Downloading Keras_Preprocessing-1.1.2-py2.py3-none-any.whl (42 kB)\n",
      "Requirement already satisfied: setuptools in c:\\users\\dell\\anaconda3\\lib\\site-packages (from tensorflow) (58.0.4)\n",
      "Collecting astunparse>=1.6.0\n",
      "  Downloading astunparse-1.6.3-py2.py3-none-any.whl (12 kB)\n",
      "Collecting absl-py>=1.0.0\n",
      "  Downloading absl_py-1.2.0-py3-none-any.whl (123 kB)\n",
      "Collecting flatbuffers<2,>=1.12\n",
      "  Downloading flatbuffers-1.12-py2.py3-none-any.whl (15 kB)\n",
      "Collecting grpcio<2.0,>=1.24.3\n",
      "  Downloading grpcio-1.47.0-cp39-cp39-win_amd64.whl (3.6 MB)\n",
      "Requirement already satisfied: h5py>=2.9.0 in c:\\users\\dell\\anaconda3\\lib\\site-packages (from tensorflow) (3.2.1)\n",
      "Requirement already satisfied: keras<2.10.0,>=2.9.0rc0 in c:\\users\\dell\\anaconda3\\lib\\site-packages (from tensorflow) (2.9.0)\n",
      "Collecting gast<=0.4.0,>=0.2.1\n",
      "  Downloading gast-0.4.0-py3-none-any.whl (9.8 kB)\n",
      "Collecting tensorflow-estimator<2.10.0,>=2.9.0rc0\n",
      "  Downloading tensorflow_estimator-2.9.0-py2.py3-none-any.whl (438 kB)\n",
      "Collecting protobuf<3.20,>=3.9.2\n",
      "  Downloading protobuf-3.19.4-cp39-cp39-win_amd64.whl (895 kB)\n",
      "Collecting libclang>=13.0.0\n",
      "  Downloading libclang-14.0.6-py2.py3-none-win_amd64.whl (14.2 MB)\n",
      "Collecting opt-einsum>=2.3.2\n",
      "  Downloading opt_einsum-3.3.0-py3-none-any.whl (65 kB)\n",
      "Collecting termcolor>=1.1.0\n",
      "  Downloading termcolor-1.1.0.tar.gz (3.9 kB)\n",
      "Requirement already satisfied: numpy>=1.20 in c:\\users\\dell\\anaconda3\\lib\\site-packages (from tensorflow) (1.20.3)\n",
      "Collecting tensorboard<2.10,>=2.9\n",
      "  Downloading tensorboard-2.9.1-py3-none-any.whl (5.8 MB)\n",
      "Collecting google-pasta>=0.1.1\n",
      "  Downloading google_pasta-0.2.0-py3-none-any.whl (57 kB)\n",
      "Requirement already satisfied: wrapt>=1.11.0 in c:\\users\\dell\\anaconda3\\lib\\site-packages (from tensorflow) (1.12.1)\n",
      "Requirement already satisfied: wheel<1.0,>=0.23.0 in c:\\users\\dell\\anaconda3\\lib\\site-packages (from astunparse>=1.6.0->tensorflow) (0.37.0)\n",
      "Requirement already satisfied: werkzeug>=1.0.1 in c:\\users\\dell\\anaconda3\\lib\\site-packages (from tensorboard<2.10,>=2.9->tensorflow) (2.0.2)\n",
      "Collecting google-auth<3,>=1.6.3\n",
      "  Downloading google_auth-2.11.0-py2.py3-none-any.whl (167 kB)\n",
      "Collecting google-auth-oauthlib<0.5,>=0.4.1\n",
      "  Downloading google_auth_oauthlib-0.4.6-py2.py3-none-any.whl (18 kB)\n",
      "Requirement already satisfied: requests<3,>=2.21.0 in c:\\users\\dell\\anaconda3\\lib\\site-packages (from tensorboard<2.10,>=2.9->tensorflow) (2.26.0)\n",
      "Collecting tensorboard-data-server<0.7.0,>=0.6.0\n",
      "  Downloading tensorboard_data_server-0.6.1-py3-none-any.whl (2.4 kB)\n",
      "Collecting markdown>=2.6.8\n",
      "  Downloading Markdown-3.4.1-py3-none-any.whl (93 kB)\n",
      "Collecting tensorboard-plugin-wit>=1.6.0\n",
      "  Downloading tensorboard_plugin_wit-1.8.1-py3-none-any.whl (781 kB)\n",
      "Collecting cachetools<6.0,>=2.0.0\n",
      "  Downloading cachetools-5.2.0-py3-none-any.whl (9.3 kB)\n",
      "Collecting pyasn1-modules>=0.2.1\n",
      "  Downloading pyasn1_modules-0.2.8-py2.py3-none-any.whl (155 kB)\n",
      "Collecting rsa<5,>=3.1.4\n",
      "  Downloading rsa-4.9-py3-none-any.whl (34 kB)\n",
      "Collecting requests-oauthlib>=0.7.0\n",
      "  Downloading requests_oauthlib-1.3.1-py2.py3-none-any.whl (23 kB)\n",
      "Requirement already satisfied: importlib-metadata>=4.4 in c:\\users\\dell\\anaconda3\\lib\\site-packages (from markdown>=2.6.8->tensorboard<2.10,>=2.9->tensorflow) (4.8.1)\n",
      "Requirement already satisfied: zipp>=0.5 in c:\\users\\dell\\anaconda3\\lib\\site-packages (from importlib-metadata>=4.4->markdown>=2.6.8->tensorboard<2.10,>=2.9->tensorflow) (3.6.0)\n",
      "Collecting pyasn1<0.5.0,>=0.4.6\n",
      "  Downloading pyasn1-0.4.8-py2.py3-none-any.whl (77 kB)\n",
      "Requirement already satisfied: idna<4,>=2.5 in c:\\users\\dell\\anaconda3\\lib\\site-packages (from requests<3,>=2.21.0->tensorboard<2.10,>=2.9->tensorflow) (3.2)\n",
      "Requirement already satisfied: charset-normalizer~=2.0.0 in c:\\users\\dell\\anaconda3\\lib\\site-packages (from requests<3,>=2.21.0->tensorboard<2.10,>=2.9->tensorflow) (2.0.4)\n",
      "Requirement already satisfied: urllib3<1.27,>=1.21.1 in c:\\users\\dell\\anaconda3\\lib\\site-packages (from requests<3,>=2.21.0->tensorboard<2.10,>=2.9->tensorflow) (1.26.7)\n",
      "Requirement already satisfied: certifi>=2017.4.17 in c:\\users\\dell\\anaconda3\\lib\\site-packages (from requests<3,>=2.21.0->tensorboard<2.10,>=2.9->tensorflow) (2021.10.8)\n",
      "Collecting oauthlib>=3.0.0\n",
      "  Downloading oauthlib-3.2.0-py3-none-any.whl (151 kB)\n",
      "Requirement already satisfied: pyparsing>=2.0.2 in c:\\users\\dell\\anaconda3\\lib\\site-packages (from packaging->tensorflow) (3.0.4)\n",
      "Building wheels for collected packages: termcolor\n",
      "  Building wheel for termcolor (setup.py): started\n",
      "  Building wheel for termcolor (setup.py): finished with status 'done'\n",
      "  Created wheel for termcolor: filename=termcolor-1.1.0-py3-none-any.whl size=4847 sha256=2f6b542299adccf2a65cba9dd97305f2ddf96dcbe24b6b0aeb784c360a123103\n",
      "  Stored in directory: c:\\users\\dell\\appdata\\local\\pip\\cache\\wheels\\b6\\0d\\90\\0d1bbd99855f99cb2f6c2e5ff96f8023fad8ec367695f7d72d\n",
      "Successfully built termcolor\n",
      "Installing collected packages: pyasn1, rsa, pyasn1-modules, oauthlib, cachetools, requests-oauthlib, google-auth, tensorboard-plugin-wit, tensorboard-data-server, protobuf, markdown, grpcio, google-auth-oauthlib, absl-py, termcolor, tensorflow-io-gcs-filesystem, tensorflow-estimator, tensorboard, opt-einsum, libclang, keras-preprocessing, google-pasta, gast, flatbuffers, astunparse, tensorflow\n",
      "Successfully installed absl-py-1.2.0 astunparse-1.6.3 cachetools-5.2.0 flatbuffers-1.12 gast-0.4.0 google-auth-2.11.0 google-auth-oauthlib-0.4.6 google-pasta-0.2.0 grpcio-1.47.0 keras-preprocessing-1.1.2 libclang-14.0.6 markdown-3.4.1 oauthlib-3.2.0 opt-einsum-3.3.0 protobuf-3.19.4 pyasn1-0.4.8 pyasn1-modules-0.2.8 requests-oauthlib-1.3.1 rsa-4.9 tensorboard-2.9.1 tensorboard-data-server-0.6.1 tensorboard-plugin-wit-1.8.1 tensorflow-2.9.1 tensorflow-estimator-2.9.0 tensorflow-io-gcs-filesystem-0.26.0 termcolor-1.1.0\n"
     ]
    }
   ],
   "source": [
    "pip install tensorflow"
   ]
  },
  {
   "cell_type": "code",
   "execution_count": 54,
   "id": "b3549596",
   "metadata": {},
   "outputs": [
    {
     "name": "stdout",
     "output_type": "stream",
     "text": [
      "Requirement already satisfied: keras in c:\\users\\dell\\anaconda3\\lib\\site-packages (2.9.0)\n",
      "Note: you may need to restart the kernel to use updated packages.\n"
     ]
    }
   ],
   "source": [
    "pip install keras"
   ]
  },
  {
   "cell_type": "code",
   "execution_count": 55,
   "id": "7ce0f977",
   "metadata": {},
   "outputs": [],
   "source": [
    "from keras.models import Sequential\n",
    "\n",
    "from keras.layers import Dense, LSTM"
   ]
  },
  {
   "cell_type": "code",
   "execution_count": 57,
   "id": "e31cdcbd",
   "metadata": {},
   "outputs": [
    {
     "name": "stdout",
     "output_type": "stream",
     "text": [
      "Model: \"sequential_1\"\n",
      "_________________________________________________________________\n",
      " Layer (type)                Output Shape              Param #   \n",
      "=================================================================\n",
      " lstm_3 (LSTM)               (None, 100, 50)           10400     \n",
      "                                                                 \n",
      " lstm_4 (LSTM)               (None, 100, 50)           20200     \n",
      "                                                                 \n",
      " lstm_5 (LSTM)               (None, 50)                20200     \n",
      "                                                                 \n",
      " dense (Dense)               (None, 1)                 51        \n",
      "                                                                 \n",
      "=================================================================\n",
      "Total params: 50,851\n",
      "Trainable params: 50,851\n",
      "Non-trainable params: 0\n",
      "_________________________________________________________________\n"
     ]
    }
   ],
   "source": [
    "# creating LSTM model using keras \n",
    "model = Sequential()\n",
    "model.add(LSTM(units=50,return_sequences=True,input_shape=(X_train.shape[1],1)))\n",
    "model.add(LSTM(units=50,return_sequences=True))\n",
    "model.add(LSTM(units=50))\n",
    "model.add(Dense(units=1,activation='linear'))\n",
    "model.summary()\n"
   ]
  },
  {
   "cell_type": "code",
   "execution_count": 58,
   "id": "f2d7ca92",
   "metadata": {},
   "outputs": [
    {
     "name": "stdout",
     "output_type": "stream",
     "text": [
      "Epoch 1/100\n",
      "26/26 [==============================] - 29s 466ms/step - loss: 0.0403 - val_loss: 0.0175\n",
      "Epoch 2/100\n",
      "26/26 [==============================] - 8s 307ms/step - loss: 0.0043 - val_loss: 0.0052\n",
      "Epoch 3/100\n",
      "26/26 [==============================] - 7s 261ms/step - loss: 0.0021 - val_loss: 0.0022\n",
      "Epoch 4/100\n",
      "26/26 [==============================] - 8s 305ms/step - loss: 0.0015 - val_loss: 0.0015\n",
      "Epoch 5/100\n",
      "26/26 [==============================] - 7s 272ms/step - loss: 0.0015 - val_loss: 0.0017\n",
      "Epoch 6/100\n",
      "26/26 [==============================] - 8s 296ms/step - loss: 0.0014 - val_loss: 0.0017\n",
      "Epoch 7/100\n",
      "26/26 [==============================] - 8s 295ms/step - loss: 0.0014 - val_loss: 0.0016\n",
      "Epoch 8/100\n",
      "26/26 [==============================] - 7s 286ms/step - loss: 0.0013 - val_loss: 0.0017\n",
      "Epoch 9/100\n",
      "26/26 [==============================] - 8s 294ms/step - loss: 0.0013 - val_loss: 0.0016\n",
      "Epoch 10/100\n",
      "26/26 [==============================] - 7s 286ms/step - loss: 0.0012 - val_loss: 0.0013\n",
      "Epoch 11/100\n",
      "26/26 [==============================] - 8s 302ms/step - loss: 0.0011 - val_loss: 0.0013\n",
      "Epoch 12/100\n",
      "26/26 [==============================] - 7s 279ms/step - loss: 0.0012 - val_loss: 0.0012\n",
      "Epoch 13/100\n",
      "26/26 [==============================] - 8s 322ms/step - loss: 0.0012 - val_loss: 0.0013\n",
      "Epoch 14/100\n",
      "26/26 [==============================] - 7s 264ms/step - loss: 0.0016 - val_loss: 0.0013\n",
      "Epoch 15/100\n",
      "26/26 [==============================] - 9s 339ms/step - loss: 0.0013 - val_loss: 0.0012\n",
      "Epoch 16/100\n",
      "26/26 [==============================] - 7s 258ms/step - loss: 0.0011 - val_loss: 0.0012\n",
      "Epoch 17/100\n",
      "26/26 [==============================] - 8s 305ms/step - loss: 0.0011 - val_loss: 0.0012\n",
      "Epoch 18/100\n",
      "26/26 [==============================] - 7s 262ms/step - loss: 0.0010 - val_loss: 0.0012\n",
      "Epoch 19/100\n",
      "26/26 [==============================] - 8s 306ms/step - loss: 0.0011 - val_loss: 0.0010\n",
      "Epoch 20/100\n",
      "26/26 [==============================] - 7s 270ms/step - loss: 9.9463e-04 - val_loss: 0.0012\n",
      "Epoch 21/100\n",
      "26/26 [==============================] - 8s 304ms/step - loss: 9.8537e-04 - val_loss: 0.0010\n",
      "Epoch 22/100\n",
      "26/26 [==============================] - 7s 277ms/step - loss: 0.0010 - val_loss: 0.0011\n",
      "Epoch 23/100\n",
      "26/26 [==============================] - 8s 306ms/step - loss: 9.2017e-04 - val_loss: 0.0010\n",
      "Epoch 24/100\n",
      "26/26 [==============================] - 8s 292ms/step - loss: 9.0806e-04 - val_loss: 9.7108e-04\n",
      "Epoch 25/100\n",
      "26/26 [==============================] - 7s 285ms/step - loss: 8.8488e-04 - val_loss: 0.0011\n",
      "Epoch 26/100\n",
      "26/26 [==============================] - 8s 294ms/step - loss: 8.6168e-04 - val_loss: 0.0010\n",
      "Epoch 27/100\n",
      "26/26 [==============================] - 7s 285ms/step - loss: 8.8131e-04 - val_loss: 0.0011\n",
      "Epoch 28/100\n",
      "26/26 [==============================] - 8s 298ms/step - loss: 9.7047e-04 - val_loss: 0.0010\n",
      "Epoch 29/100\n",
      "26/26 [==============================] - 7s 272ms/step - loss: 8.9378e-04 - val_loss: 9.4068e-04\n",
      "Epoch 30/100\n",
      "26/26 [==============================] - 8s 309ms/step - loss: 8.4542e-04 - val_loss: 0.0011\n",
      "Epoch 31/100\n",
      "26/26 [==============================] - 7s 258ms/step - loss: 8.2271e-04 - val_loss: 9.6241e-04\n",
      "Epoch 32/100\n",
      "26/26 [==============================] - 8s 308ms/step - loss: 8.3458e-04 - val_loss: 9.1383e-04\n",
      "Epoch 33/100\n",
      "26/26 [==============================] - 7s 272ms/step - loss: 7.9605e-04 - val_loss: 9.2067e-04\n",
      "Epoch 34/100\n",
      "26/26 [==============================] - 8s 311ms/step - loss: 8.1864e-04 - val_loss: 9.3010e-04\n",
      "Epoch 35/100\n",
      "26/26 [==============================] - 7s 267ms/step - loss: 7.9422e-04 - val_loss: 9.1898e-04\n",
      "Epoch 36/100\n",
      "26/26 [==============================] - 8s 309ms/step - loss: 7.4979e-04 - val_loss: 8.6917e-04\n",
      "Epoch 37/100\n",
      "26/26 [==============================] - 7s 275ms/step - loss: 7.3989e-04 - val_loss: 9.2127e-04\n",
      "Epoch 38/100\n",
      "26/26 [==============================] - 8s 301ms/step - loss: 9.4267e-04 - val_loss: 9.3060e-04\n",
      "Epoch 39/100\n",
      "26/26 [==============================] - 7s 286ms/step - loss: 7.5971e-04 - val_loss: 9.2263e-04\n",
      "Epoch 40/100\n",
      "26/26 [==============================] - 7s 251ms/step - loss: 8.1431e-04 - val_loss: 8.7783e-04\n",
      "Epoch 41/100\n",
      "26/26 [==============================] - 7s 254ms/step - loss: 7.7606e-04 - val_loss: 9.0050e-04\n",
      "Epoch 42/100\n",
      "26/26 [==============================] - 7s 263ms/step - loss: 7.0342e-04 - val_loss: 8.5700e-04\n",
      "Epoch 43/100\n",
      "26/26 [==============================] - 7s 258ms/step - loss: 7.3020e-04 - val_loss: 8.5085e-04\n",
      "Epoch 44/100\n",
      "26/26 [==============================] - 7s 256ms/step - loss: 8.5264e-04 - val_loss: 8.8319e-04\n",
      "Epoch 45/100\n",
      "26/26 [==============================] - 7s 255ms/step - loss: 7.1737e-04 - val_loss: 9.0377e-04\n",
      "Epoch 46/100\n",
      "26/26 [==============================] - 7s 261ms/step - loss: 9.5864e-04 - val_loss: 8.5167e-04\n",
      "Epoch 47/100\n",
      "26/26 [==============================] - 7s 262ms/step - loss: 6.7717e-04 - val_loss: 0.0011\n",
      "Epoch 48/100\n",
      "26/26 [==============================] - 7s 257ms/step - loss: 6.5102e-04 - val_loss: 9.1608e-04\n",
      "Epoch 49/100\n",
      "26/26 [==============================] - 7s 260ms/step - loss: 6.4175e-04 - val_loss: 8.1529e-04\n",
      "Epoch 50/100\n",
      "26/26 [==============================] - 7s 256ms/step - loss: 6.0376e-04 - val_loss: 8.2522e-04\n",
      "Epoch 51/100\n",
      "26/26 [==============================] - 7s 277ms/step - loss: 5.9257e-04 - val_loss: 8.3712e-04\n",
      "Epoch 52/100\n",
      "26/26 [==============================] - 7s 267ms/step - loss: 6.0304e-04 - val_loss: 7.4641e-04\n",
      "Epoch 53/100\n",
      "26/26 [==============================] - 7s 267ms/step - loss: 7.3327e-04 - val_loss: 8.7191e-04\n",
      "Epoch 54/100\n",
      "26/26 [==============================] - 7s 267ms/step - loss: 5.5291e-04 - val_loss: 6.8914e-04\n",
      "Epoch 55/100\n",
      "26/26 [==============================] - 7s 265ms/step - loss: 5.3787e-04 - val_loss: 8.6458e-04\n",
      "Epoch 56/100\n",
      "26/26 [==============================] - 8s 302ms/step - loss: 5.1876e-04 - val_loss: 7.6860e-04\n",
      "Epoch 57/100\n",
      "26/26 [==============================] - 6s 242ms/step - loss: 5.1761e-04 - val_loss: 6.8962e-04\n",
      "Epoch 58/100\n",
      "26/26 [==============================] - 7s 253ms/step - loss: 5.5341e-04 - val_loss: 6.7727e-04\n",
      "Epoch 59/100\n",
      "26/26 [==============================] - 6s 246ms/step - loss: 5.0064e-04 - val_loss: 6.6348e-04\n",
      "Epoch 60/100\n",
      "26/26 [==============================] - 6s 244ms/step - loss: 6.1789e-04 - val_loss: 8.9458e-04\n",
      "Epoch 61/100\n",
      "26/26 [==============================] - 6s 245ms/step - loss: 4.6584e-04 - val_loss: 7.0528e-04\n",
      "Epoch 62/100\n",
      "26/26 [==============================] - 6s 242ms/step - loss: 4.5123e-04 - val_loss: 6.2948e-04\n",
      "Epoch 63/100\n",
      "26/26 [==============================] - 7s 254ms/step - loss: 4.4835e-04 - val_loss: 6.8803e-04\n",
      "Epoch 64/100\n",
      "26/26 [==============================] - 6s 250ms/step - loss: 4.7812e-04 - val_loss: 6.3225e-04\n",
      "Epoch 65/100\n",
      "26/26 [==============================] - 7s 257ms/step - loss: 4.2546e-04 - val_loss: 7.4322e-04\n",
      "Epoch 66/100\n",
      "26/26 [==============================] - 7s 253ms/step - loss: 4.9209e-04 - val_loss: 6.0335e-04\n",
      "Epoch 67/100\n",
      "26/26 [==============================] - 6s 245ms/step - loss: 3.8937e-04 - val_loss: 5.7879e-04\n",
      "Epoch 68/100\n",
      "26/26 [==============================] - 6s 248ms/step - loss: 4.6310e-04 - val_loss: 7.0723e-04\n",
      "Epoch 69/100\n",
      "26/26 [==============================] - 6s 243ms/step - loss: 4.9864e-04 - val_loss: 5.4063e-04\n",
      "Epoch 70/100\n",
      "26/26 [==============================] - 7s 253ms/step - loss: 4.4979e-04 - val_loss: 5.5948e-04\n",
      "Epoch 71/100\n",
      "26/26 [==============================] - 7s 264ms/step - loss: 4.2526e-04 - val_loss: 5.3832e-04\n",
      "Epoch 72/100\n",
      "26/26 [==============================] - 7s 254ms/step - loss: 4.5137e-04 - val_loss: 5.7029e-04\n",
      "Epoch 73/100\n",
      "26/26 [==============================] - 7s 256ms/step - loss: 3.7866e-04 - val_loss: 5.0718e-04\n",
      "Epoch 74/100\n",
      "26/26 [==============================] - 6s 247ms/step - loss: 4.2814e-04 - val_loss: 4.9626e-04\n",
      "Epoch 75/100\n",
      "26/26 [==============================] - 6s 243ms/step - loss: 4.2972e-04 - val_loss: 5.9290e-04\n",
      "Epoch 76/100\n",
      "26/26 [==============================] - 7s 271ms/step - loss: 3.8667e-04 - val_loss: 5.4614e-04\n",
      "Epoch 77/100\n",
      "26/26 [==============================] - 6s 251ms/step - loss: 3.6268e-04 - val_loss: 5.8059e-04\n",
      "Epoch 78/100\n",
      "26/26 [==============================] - 7s 258ms/step - loss: 3.5943e-04 - val_loss: 5.3547e-04\n",
      "Epoch 79/100\n",
      "26/26 [==============================] - 6s 240ms/step - loss: 3.7700e-04 - val_loss: 5.3108e-04\n",
      "Epoch 80/100\n",
      "26/26 [==============================] - 7s 251ms/step - loss: 3.8368e-04 - val_loss: 5.7719e-04\n",
      "Epoch 81/100\n",
      "26/26 [==============================] - 6s 240ms/step - loss: 3.5900e-04 - val_loss: 5.7209e-04\n",
      "Epoch 82/100\n",
      "26/26 [==============================] - 6s 239ms/step - loss: 3.5197e-04 - val_loss: 4.5828e-04\n",
      "Epoch 83/100\n",
      "26/26 [==============================] - 6s 247ms/step - loss: 3.4091e-04 - val_loss: 4.6049e-04\n",
      "Epoch 84/100\n",
      "26/26 [==============================] - 6s 243ms/step - loss: 3.7111e-04 - val_loss: 5.0937e-04\n",
      "Epoch 85/100\n",
      "26/26 [==============================] - 7s 253ms/step - loss: 3.9869e-04 - val_loss: 5.5749e-04\n",
      "Epoch 86/100\n",
      "26/26 [==============================] - 6s 244ms/step - loss: 3.2242e-04 - val_loss: 4.4514e-04\n",
      "Epoch 87/100\n",
      "26/26 [==============================] - 6s 241ms/step - loss: 3.3144e-04 - val_loss: 4.4367e-04\n",
      "Epoch 88/100\n",
      "26/26 [==============================] - 6s 247ms/step - loss: 3.5324e-04 - val_loss: 4.2873e-04\n",
      "Epoch 89/100\n",
      "26/26 [==============================] - 6s 241ms/step - loss: 3.7727e-04 - val_loss: 5.0379e-04\n",
      "Epoch 90/100\n",
      "26/26 [==============================] - 6s 247ms/step - loss: 3.7076e-04 - val_loss: 4.4614e-04\n",
      "Epoch 91/100\n",
      "26/26 [==============================] - 6s 249ms/step - loss: 3.0921e-04 - val_loss: 4.3433e-04\n",
      "Epoch 92/100\n",
      "26/26 [==============================] - 6s 241ms/step - loss: 3.8239e-04 - val_loss: 4.5275e-04\n",
      "Epoch 93/100\n",
      "26/26 [==============================] - 6s 248ms/step - loss: 3.5586e-04 - val_loss: 4.5255e-04\n",
      "Epoch 94/100\n",
      "26/26 [==============================] - 6s 244ms/step - loss: 3.2924e-04 - val_loss: 4.3635e-04\n",
      "Epoch 95/100\n",
      "26/26 [==============================] - 7s 268ms/step - loss: 3.2622e-04 - val_loss: 4.2160e-04\n",
      "Epoch 96/100\n",
      "26/26 [==============================] - 7s 259ms/step - loss: 3.9467e-04 - val_loss: 5.4610e-04\n",
      "Epoch 97/100\n",
      "26/26 [==============================] - 6s 244ms/step - loss: 3.6424e-04 - val_loss: 4.0390e-04\n",
      "Epoch 98/100\n",
      "26/26 [==============================] - 6s 247ms/step - loss: 3.6943e-04 - val_loss: 4.6051e-04\n",
      "Epoch 99/100\n",
      "26/26 [==============================] - 6s 243ms/step - loss: 3.6949e-04 - val_loss: 4.8953e-04\n",
      "Epoch 100/100\n",
      "26/26 [==============================] - 6s 246ms/step - loss: 3.0450e-04 - val_loss: 4.1956e-04\n"
     ]
    },
    {
     "data": {
      "text/plain": [
       "<keras.callbacks.History at 0x22fc64da460>"
      ]
     },
     "execution_count": 58,
     "metadata": {},
     "output_type": "execute_result"
    }
   ],
   "source": [
    "# Training model with adm optimizer and mean squared error loss function \n",
    "\n",
    "model.compile(loss='mean_squared_error',optimizer='adam')\n",
    "\n",
    "model.fit(X_train,Y_train,validation_data=(X_test,Y_test),epochs=100,batch_size=64)"
   ]
  },
  {
   "cell_type": "code",
   "execution_count": 60,
   "id": "e133e373",
   "metadata": {},
   "outputs": [
    {
     "data": {
      "text/plain": [
       "[<matplotlib.lines.Line2D at 0x22fc519a370>]"
      ]
     },
     "execution_count": 60,
     "metadata": {},
     "output_type": "execute_result"
    },
    {
     "data": {
      "image/png": "[encoded data removed]",
      "text/plain": [
       "<Figure size 432x288 with 1 Axes>"
      ]
     },
     "metadata": {
      "needs_background": "light"
     },
     "output_type": "display_data"
    }
   ],
   "source": [
    "#plotting loss ,it shows that loss has decreased significiantly and model trained well\n",
    "\n",
    "loss = model.history.history['loss']\n",
    "plt.plot(loss)"
   ]
  },
  {
   "cell_type": "code",
   "execution_count": 64,
   "id": "ebaca361",
   "metadata": {},
   "outputs": [
    {
     "name": "stdout",
     "output_type": "stream",
     "text": [
      "51/51 [==============================] - 3s 53ms/step\n",
      "20/20 [==============================] - 1s 53ms/step\n"
     ]
    }
   ],
   "source": [
    "# predicting on train and test data \n",
    "\n",
    "train_predict = model.predict(X_train)\n",
    "test_predict = model.predict(X_test)"
   ]
  },
  {
   "cell_type": "code",
   "execution_count": 66,
   "id": "42d03e17",
   "metadata": {},
   "outputs": [],
   "source": [
    "# Inverse transform to get actual data \n",
    "\n",
    "train_predict= normalizer.inverse_transform(train_predict)\n",
    "test_predict= normalizer.inverse_transform(test_predict) \n",
    "    "
   ]
  },
  {
   "cell_type": "code",
   "execution_count": 67,
   "id": "fba318cd",
   "metadata": {},
   "outputs": [
    {
     "data": {
      "text/plain": [
       "[<matplotlib.lines.Line2D at 0x22fcd2b8f10>]"
      ]
     },
     "execution_count": 67,
     "metadata": {},
     "output_type": "execute_result"
    },
    {
     "data": {
      "image/png": "[encoded data removed]",
      "text/plain": [
       "<Figure size 432x288 with 1 Axes>"
      ]
     },
     "metadata": {
      "needs_background": "light"
     },
     "output_type": "display_data"
    }
   ],
   "source": [
    "#Comparing using variables\n",
    "\n",
    "plt.plot(normalizer.inverse_transform(ds_scaled))\n",
    "plt.plot(train_predict)\n",
    "plt.plot(test_predict)"
   ]
  },
  {
   "cell_type": "code",
   "execution_count": 68,
   "id": "5e3cb2fa",
   "metadata": {},
   "outputs": [
    {
     "data": {
      "text/plain": [
       "numpy.ndarray"
      ]
     },
     "execution_count": 68,
     "metadata": {},
     "output_type": "execute_result"
    }
   ],
   "source": [
    "type(train_predict)"
   ]
  },
  {
   "cell_type": "code",
   "execution_count": 69,
   "id": "89e5502b",
   "metadata": {},
   "outputs": [],
   "source": [
    "test = np.vstack((train_predict,test_predict))"
   ]
  },
  {
   "cell_type": "code",
   "execution_count": 70,
   "id": "aab4f906",
   "metadata": {},
   "outputs": [
    {
     "data": {
      "text/plain": [
       "[<matplotlib.lines.Line2D at 0x22fce390730>]"
      ]
     },
     "execution_count": 70,
     "metadata": {},
     "output_type": "execute_result"
    },
    {
     "data": {
      "image/png": "[encoded data removed]",
      "text/plain": [
       "<Figure size 432x288 with 1 Axes>"
      ]
     },
     "metadata": {
      "needs_background": "light"
     },
     "output_type": "display_data"
    }
   ],
   "source": [
    "# Combining the predicted data to create uniform data visulization \n",
    "\n",
    "plt.plot(normalizer.inverse_transform(ds_scaled))\n",
    "plt.plot(test)"
   ]
  },
  {
   "cell_type": "code",
   "execution_count": 114,
   "id": "3043d78d",
   "metadata": {},
   "outputs": [
    {
     "data": {
      "text/plain": [
       "740"
      ]
     },
     "execution_count": 114,
     "metadata": {},
     "output_type": "execute_result"
    }
   ],
   "source": [
    "len(ds_test)"
   ]
  },
  {
   "cell_type": "code",
   "execution_count": 115,
   "id": "90adf381",
   "metadata": {},
   "outputs": [],
   "source": [
    "#Getting the last 100 days record \n",
    "fut_inp = ds_test[640:]"
   ]
  },
  {
   "cell_type": "code",
   "execution_count": 116,
   "id": "8ecc7608",
   "metadata": {},
   "outputs": [],
   "source": [
    "fut_inp =fut_inp.reshape(1,-1)\n"
   ]
  },
  {
   "cell_type": "code",
   "execution_count": 117,
   "id": "9232e48f",
   "metadata": {},
   "outputs": [],
   "source": [
    "tmp_inp = list(fut_inp)"
   ]
  },
  {
   "cell_type": "code",
   "execution_count": 118,
   "id": "eec823f6",
   "metadata": {},
   "outputs": [
    {
     "data": {
      "text/plain": [
       "(1, 100)"
      ]
     },
     "execution_count": 118,
     "metadata": {},
     "output_type": "execute_result"
    }
   ],
   "source": [
    "fut_inp.shape"
   ]
  },
  {
   "cell_type": "code",
   "execution_count": 119,
   "id": "f95b1cd3",
   "metadata": {},
   "outputs": [],
   "source": [
    "# creating list of the last 100 data \n",
    "\n",
    "tmp_inp= tmp_inp[0].tolist()"
   ]
  },
  {
   "cell_type": "code",
   "execution_count": 121,
   "id": "40662d0e",
   "metadata": {},
   "outputs": [
    {
     "name": "stdout",
     "output_type": "stream",
     "text": [
      "[[0.3139895498752594], [0.31480085849761963], [0.3157399892807007], [0.3167111575603485], [0.3177025020122528], [0.31871435046195984], [0.31974416971206665], [0.3207864761352539], [0.3218342363834381], [0.3228801488876343], [0.3239179849624634], [0.32494276762008667], [0.32595139741897583], [0.3269425332546234], [0.32791608572006226], [0.3288731276988983], [0.32981568574905396], [0.3307460844516754], [0.33166664838790894], [0.3325796127319336], [0.33348679542541504], [0.33438968658447266], [0.3352891504764557], [0.3361857533454895], [0.33707964420318604], [0.33797067403793335], [0.3388587236404419], [0.3397432565689087], [0.340624064207077], [0.3415009081363678]]\n"
     ]
    }
   ],
   "source": [
    "# predicting next 30 days price suing the current data\n",
    "# it will predict in sliding window manner (algorithm ) with stride 1\n",
    "\n",
    "lst_output =[]\n",
    "n_steps=100\n",
    "i=0\n",
    "while(i<30):\n",
    "    if(len(tmp_inp)>100):\n",
    "        fut_inp= np.array(tmp_inp[1:])\n",
    "        fut_inp = fut_inp.reshape(1,-1)\n",
    "        fut_inp = fut_inp.reshape((1,n_steps,1))\n",
    "        yhat = model.predict(fut_inp, verbose=0)\n",
    "        tmp_inp.extend(yhat[0].tolist())\n",
    "        tmp_inp = tmp_inp[1:]\n",
    "        lst_output.extend(yhat.tolist())\n",
    "        i=i+1\n",
    "    else:\n",
    "        fut_inp = fut_inp.reshape(1, n_steps, 1)\n",
    "        yhat=model.predict(fut_inp,verbose=0)\n",
    "        tmp_inp.extend(yhat[0].tolist())\n",
    "        lst_output.extend(yhat.tolist())\n",
    "        i=i+1\n",
    "print(lst_output)\n",
    "        \n",
    "        \n",
    "        "
   ]
  },
  {
   "cell_type": "code",
   "execution_count": 122,
   "id": "168e7875",
   "metadata": {},
   "outputs": [
    {
     "data": {
      "text/plain": [
       "2464"
      ]
     },
     "execution_count": 122,
     "metadata": {},
     "output_type": "execute_result"
    }
   ],
   "source": [
    "len(ds_scaled)"
   ]
  },
  {
   "cell_type": "code",
   "execution_count": 124,
   "id": "46dd792a",
   "metadata": {},
   "outputs": [],
   "source": [
    "# creating a dummy plane to plot graph one after another\n",
    "\n",
    "plot_new = np.arange(1,101)\n",
    "plot_pred = np.arange(101,131)\n"
   ]
  },
  {
   "cell_type": "code",
   "execution_count": 125,
   "id": "25656323",
   "metadata": {},
   "outputs": [
    {
     "data": {
      "text/plain": [
       "[<matplotlib.lines.Line2D at 0x22fce422100>]"
      ]
     },
     "execution_count": 125,
     "metadata": {},
     "output_type": "execute_result"
    },
    {
     "data": {
      "image/png": "[encoded data removed]",
      "text/plain": [
       "<Figure size 432x288 with 1 Axes>"
      ]
     },
     "metadata": {
      "needs_background": "light"
     },
     "output_type": "display_data"
    }
   ],
   "source": [
    "plt.plot(plot_new,normalizer.inverse_transform(ds_scaled[2364:]))\n",
    "plt.plot(plot_pred,normalizer.inverse_transform(lst_output))"
   ]
  },
  {
   "cell_type": "code",
   "execution_count": 128,
   "id": "24492adb",
   "metadata": {},
   "outputs": [
    {
     "data": {
      "text/plain": [
       "2464"
      ]
     },
     "execution_count": 128,
     "metadata": {},
     "output_type": "execute_result"
    }
   ],
   "source": [
    "ds_new= ds_scaled.tolist()\n",
    "\n",
    "\n",
    "len(ds_new)"
   ]
  },
  {
   "cell_type": "code",
   "execution_count": 129,
   "id": "9b112fbf",
   "metadata": {},
   "outputs": [
    {
     "data": {
      "text/plain": [
       "[<matplotlib.lines.Line2D at 0x22fce42c670>]"
      ]
     },
     "execution_count": 129,
     "metadata": {},
     "output_type": "execute_result"
    },
    {
     "data": {
      "image/png": "[encoded data removed]",
      "text/plain": [
       "<Figure size 432x288 with 1 Axes>"
      ]
     },
     "metadata": {
      "needs_background": "light"
     },
     "output_type": "display_data"
    }
   ],
   "source": [
    "# extend helps us to fill the missing values with approx value \n",
    "\n",
    "ds_new.extend(lst_output)\n",
    "plt.plot(ds_new[2400:])"
   ]
  },
  {
   "cell_type": "code",
   "execution_count": 130,
   "id": "d87a3c70",
   "metadata": {},
   "outputs": [],
   "source": [
    "# creating final data for plottimg \n",
    "final_graph = normalizer.inverse_transform(ds_new).tolist()"
   ]
  },
  {
   "cell_type": "code",
   "execution_count": 133,
   "id": "54dc99eb",
   "metadata": {},
   "outputs": [
    {
     "data": {
      "text/plain": [
       "<matplotlib.legend.Legend at 0x22fcd2abaf0>"
      ]
     },
     "execution_count": 133,
     "metadata": {},
     "output_type": "execute_result"
    },
    {
     "data": {
      "image/png": "[encoded data removed]",
      "text/plain": [
       "<Figure size 432x288 with 1 Axes>"
      ]
     },
     "metadata": {
      "needs_background": "light"
     },
     "output_type": "display_data"
    }
   ],
   "source": [
    "# ploting  final results with predicted value after 30 days \n",
    "\n",
    "plt.plot(final_graph,)\n",
    "plt.ylabel('Price')\n",
    "plt.xlabel('Time')\n",
    "plt.title('{0} prediction of next month open'.format(stock_symbol))\n",
    "plt.axhline(y=final_graph[len(final_graph)-1],color ='red',label='NEXT 30D:{0}'.format(float))\n",
    "plt.legend()"
   ]
  },
  {
   "cell_type": "code",
   "execution_count": null,
   "id": "f73e793f",
   "metadata": {},
   "outputs": [],
   "source": []
  }
 ],
 "metadata": {
  "kernelspec": {
   "display_name": "Python 3 (ipykernel)",
   "language": "python",
   "name": "python3"
  },
  "language_info": {
   "codemirror_mode": {
    "name": "ipython",
    "version": 3
   },
   "file_extension": ".py",
   "mimetype": "text/x-python",
   "name": "python",
   "nbconvert_exporter": "python",
   "pygments_lexer": "ipython3",
   "version": "3.9.7"
  }
 },
 "nbformat": 4,
 "nbformat_minor": 5
}
